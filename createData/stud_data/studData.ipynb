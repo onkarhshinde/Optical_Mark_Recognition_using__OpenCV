{
 "cells": [
  {
   "cell_type": "code",
   "execution_count": 1,
   "id": "2bd6eb27",
   "metadata": {},
   "outputs": [
    {
     "data": {
      "text/html": [
       "<div>\n",
       "<style scoped>\n",
       "    .dataframe tbody tr th:only-of-type {\n",
       "        vertical-align: middle;\n",
       "    }\n",
       "\n",
       "    .dataframe tbody tr th {\n",
       "        vertical-align: top;\n",
       "    }\n",
       "\n",
       "    .dataframe thead th {\n",
       "        text-align: right;\n",
       "    }\n",
       "</style>\n",
       "<table border=\"1\" class=\"dataframe\">\n",
       "  <thead>\n",
       "    <tr style=\"text-align: right;\">\n",
       "      <th></th>\n",
       "      <th>rollno</th>\n",
       "      <th>year</th>\n",
       "      <th>branch</th>\n",
       "      <th>stream</th>\n",
       "      <th>hostel</th>\n",
       "      <th>gender</th>\n",
       "    </tr>\n",
       "  </thead>\n",
       "  <tbody>\n",
       "    <tr>\n",
       "      <th>0</th>\n",
       "      <td>20250001</td>\n",
       "      <td>1</td>\n",
       "      <td>mech</td>\n",
       "      <td>mtech</td>\n",
       "      <td>disang</td>\n",
       "      <td>male</td>\n",
       "    </tr>\n",
       "    <tr>\n",
       "      <th>1</th>\n",
       "      <td>20250002</td>\n",
       "      <td>4</td>\n",
       "      <td>ece</td>\n",
       "      <td>mtech</td>\n",
       "      <td>umiam</td>\n",
       "      <td>male</td>\n",
       "    </tr>\n",
       "    <tr>\n",
       "      <th>2</th>\n",
       "      <td>20250003</td>\n",
       "      <td>4</td>\n",
       "      <td>chemistry</td>\n",
       "      <td>btech</td>\n",
       "      <td>kapili</td>\n",
       "      <td>male</td>\n",
       "    </tr>\n",
       "    <tr>\n",
       "      <th>3</th>\n",
       "      <td>20250004</td>\n",
       "      <td>2</td>\n",
       "      <td>ece</td>\n",
       "      <td>btech</td>\n",
       "      <td>subhansiri</td>\n",
       "      <td>male</td>\n",
       "    </tr>\n",
       "    <tr>\n",
       "      <th>4</th>\n",
       "      <td>20250005</td>\n",
       "      <td>1</td>\n",
       "      <td>cse</td>\n",
       "      <td>mtech</td>\n",
       "      <td>disang</td>\n",
       "      <td>female</td>\n",
       "    </tr>\n",
       "  </tbody>\n",
       "</table>\n",
       "</div>"
      ],
      "text/plain": [
       "     rollno  year     branch stream      hostel  gender\n",
       "0  20250001     1       mech  mtech      disang    male\n",
       "1  20250002     4        ece  mtech       umiam    male\n",
       "2  20250003     4  chemistry  btech      kapili    male\n",
       "3  20250004     2        ece  btech  subhansiri    male\n",
       "4  20250005     1        cse  mtech      disang  female"
      ]
     },
     "execution_count": 1,
     "metadata": {},
     "output_type": "execute_result"
    }
   ],
   "source": [
    "import pandas as pd\n",
    "import random\n",
    "\n",
    "# Define possible values for each column\n",
    "branches = ['cse', 'mnc', 'dsai', 'mech', 'ece', 'eee','energy' ,'chemistry', 'bsbe', 'civil']\n",
    "years = [1, 2, 3, 4]\n",
    "streams = ['btech', 'mtech', 'phd']\n",
    "hostels = ['kapili', 'brahma', 'disang', 'dihing', 'dhansiri', 'subhansiri', 'kameng','lohit','barak','umiam']\n",
    "girls_hostels = ['dhansiri', 'subhansiri']\n",
    "coed_hostels = ['disang']\n",
    "male_hostels = [h for h in hostels if h not in girls_hostels]\n",
    "\n",
    "# Generate data\n",
    "data = []\n",
    "for i in range(1, 501):\n",
    "    year = random.choice(years)\n",
    "    branch = random.choice(branches)\n",
    "    stream = random.choice(streams)\n",
    "    gender = random.choice(['male', 'female'])\n",
    "    \n",
    "    if gender == 'female':\n",
    "        hostel = random.choice(girls_hostels + coed_hostels)\n",
    "    else:\n",
    "        hostel = random.choice(hostels)\n",
    "    \n",
    "    row = [f\"2025{i:04d}\", year, branch, stream, hostel, gender]\n",
    "    data.append(row)\n",
    "\n",
    "# Create DataFrame\n",
    "columns = ['rollno', 'year', 'branch', 'stream', 'hostel', 'gender']\n",
    "df = pd.DataFrame(data, columns=columns)\n",
    "df.head()\n"
   ]
  },
  {
   "cell_type": "code",
   "execution_count": 2,
   "id": "4054e506",
   "metadata": {},
   "outputs": [],
   "source": [
    "# Save to CSV\n",
    "df.to_csv('student_data.csv', index=False)"
   ]
  },
  {
   "cell_type": "markdown",
   "id": "a88b18e8",
   "metadata": {},
   "source": [
    "## UPLOAD TO DB"
   ]
  },
  {
   "cell_type": "code",
   "execution_count": 3,
   "id": "eb379f02",
   "metadata": {},
   "outputs": [],
   "source": [
    "# Requirements\n",
    "host_name = \"192.168.137.1\"\n",
    "user_name = \"root\"\n",
    "user_password = \"12341234\"\n",
    "database_name = \"trial3\" #overall database name\n",
    "table_name = \"student_data\" #table name\n",
    "\n"
   ]
  },
  {
   "cell_type": "code",
   "execution_count": 4,
   "id": "333f0ef6",
   "metadata": {},
   "outputs": [
    {
     "name": "stdout",
     "output_type": "stream",
     "text": [
      "Successfully inserted 500 rows into 'student_data'!\n"
     ]
    }
   ],
   "source": [
    "import pandas as pd\n",
    "import mysql.connector\n",
    "\n",
    "# Load CSV file into a DataFrame\n",
    "df = pd.read_csv('student_data.csv')  # Replace with your actual CSV file path\n",
    "\n",
    "# Define your database connection details\n",
    "conn = mysql.connector.connect(\n",
    "    host=host_name,\n",
    "        user=user_name,\n",
    "        password=user_password,\n",
    "        database=database_name)\n",
    "cursor = conn.cursor()\n",
    "\n",
    "\n",
    "\n",
    "# Prepare insert query dynamically\n",
    "cols = \", \".join(df.columns)\n",
    "placeholders = \", \".join([\"%s\"] * len(df.columns))\n",
    "insert_query = f\"INSERT INTO {table_name} ({cols}) VALUES ({placeholders})\"\n",
    "\n",
    "# Convert DataFrame rows to list of tuples and insert\n",
    "data = [tuple(x) for x in df.to_numpy()]\n",
    "\n",
    "# Execute in bulk for performance\n",
    "cursor.executemany(insert_query, data)\n",
    "\n",
    "# Commit changes\n",
    "conn.commit()\n",
    "cursor.close()\n",
    "conn.close()\n",
    "\n",
    "print(f\"Successfully inserted {len(data)} rows into '{table_name}'!\")\n"
   ]
  },
  {
   "cell_type": "code",
   "execution_count": null,
   "id": "8dd63e60",
   "metadata": {},
   "outputs": [],
   "source": []
  }
 ],
 "metadata": {
  "kernelspec": {
   "display_name": "iot",
   "language": "python",
   "name": "python3"
  },
  "language_info": {
   "codemirror_mode": {
    "name": "ipython",
    "version": 3
   },
   "file_extension": ".py",
   "mimetype": "text/x-python",
   "name": "python",
   "nbconvert_exporter": "python",
   "pygments_lexer": "ipython3",
   "version": "3.12.9"
  }
 },
 "nbformat": 4,
 "nbformat_minor": 5
}
