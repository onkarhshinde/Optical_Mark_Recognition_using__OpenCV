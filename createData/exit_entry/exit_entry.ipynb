{
 "cells": [
  {
   "cell_type": "code",
   "execution_count": 11,
   "id": "5cc3493e",
   "metadata": {},
   "outputs": [
    {
     "data": {
      "text/html": [
       "<div>\n",
       "<style scoped>\n",
       "    .dataframe tbody tr th:only-of-type {\n",
       "        vertical-align: middle;\n",
       "    }\n",
       "\n",
       "    .dataframe tbody tr th {\n",
       "        vertical-align: top;\n",
       "    }\n",
       "\n",
       "    .dataframe thead th {\n",
       "        text-align: right;\n",
       "    }\n",
       "</style>\n",
       "<table border=\"1\" class=\"dataframe\">\n",
       "  <thead>\n",
       "    <tr style=\"text-align: right;\">\n",
       "      <th></th>\n",
       "      <th>mac</th>\n",
       "      <th>exit_datetime</th>\n",
       "      <th>entry_datetime</th>\n",
       "    </tr>\n",
       "  </thead>\n",
       "  <tbody>\n",
       "    <tr>\n",
       "      <th>0</th>\n",
       "      <td>39:8e:20:c1:f1:cc</td>\n",
       "      <td>2025-04-09 13:05:49</td>\n",
       "      <td>2025-04-09 17:34:49</td>\n",
       "    </tr>\n",
       "    <tr>\n",
       "      <th>1</th>\n",
       "      <td>dc:0c:58:c8:f1:97</td>\n",
       "      <td>2025-04-10 08:49:56</td>\n",
       "      <td>2025-04-10 11:39:56</td>\n",
       "    </tr>\n",
       "    <tr>\n",
       "      <th>2</th>\n",
       "      <td>12:d9:ad:19:f8:5d</td>\n",
       "      <td>2025-03-21 19:03:04</td>\n",
       "      <td>2025-03-21 21:35:04</td>\n",
       "    </tr>\n",
       "    <tr>\n",
       "      <th>3</th>\n",
       "      <td>28:b9:61:91:ae:ec</td>\n",
       "      <td>2025-03-17 18:19:59</td>\n",
       "      <td>2025-03-17 21:31:59</td>\n",
       "    </tr>\n",
       "    <tr>\n",
       "      <th>4</th>\n",
       "      <td>be:4e:6a:4e:83:ed</td>\n",
       "      <td>2025-04-09 14:52:16</td>\n",
       "      <td>2025-04-09 18:55:16</td>\n",
       "    </tr>\n",
       "  </tbody>\n",
       "</table>\n",
       "</div>"
      ],
      "text/plain": [
       "                 mac        exit_datetime       entry_datetime\n",
       "0  39:8e:20:c1:f1:cc  2025-04-09 13:05:49  2025-04-09 17:34:49\n",
       "1  dc:0c:58:c8:f1:97  2025-04-10 08:49:56  2025-04-10 11:39:56\n",
       "2  12:d9:ad:19:f8:5d  2025-03-21 19:03:04  2025-03-21 21:35:04\n",
       "3  28:b9:61:91:ae:ec  2025-03-17 18:19:59  2025-03-17 21:31:59\n",
       "4  be:4e:6a:4e:83:ed  2025-04-09 14:52:16  2025-04-09 18:55:16"
      ]
     },
     "execution_count": 11,
     "metadata": {},
     "output_type": "execute_result"
    }
   ],
   "source": [
    "from datetime import datetime, timedelta\n",
    "import random\n",
    "import pandas as pd\n",
    "\n",
    "# Generate entry and exit timestamps for each MAC address\n",
    "entries = []\n",
    "num_records = 2000\n",
    "\n",
    "df = pd.read_csv(\"../mac_roll_data/mac.csv\")\n",
    "\n",
    "\n",
    "mac_list = df['mac'].tolist()\n",
    "\n",
    "\n",
    "\n",
    "\n",
    "\n",
    "for _ in range(num_records):\n",
    "    mac = random.choice(mac_list)\n",
    "    # Random date within the past month\n",
    "    base_date = datetime.now() - timedelta(days=random.randint(1, 30))\n",
    "    # Random entry time during the day\n",
    "    entry_time = base_date.replace(hour=random.randint(7, 20), minute=random.randint(0, 59), second=random.randint(0, 59))\n",
    "    # Random exit time within 1 to 4 hours after entry\n",
    "    exit_time = entry_time + timedelta(hours=random.randint(0, 4), minutes=random.randint(0, 59))\n",
    "    \n",
    "    entries.append([mac, entry_time.strftime(\"%Y-%m-%d %H:%M:%S\"), exit_time.strftime(\"%Y-%m-%d %H:%M:%S\")])\n",
    "\n",
    "# Create DataFrame\n",
    "df = pd.DataFrame(entries, columns=['mac', 'exit_datetime','entry_datetime'])\n",
    "df.head()\n"
   ]
  },
  {
   "cell_type": "code",
   "execution_count": 12,
   "id": "18422673",
   "metadata": {},
   "outputs": [
    {
     "data": {
      "text/html": [
       "<div>\n",
       "<style scoped>\n",
       "    .dataframe tbody tr th:only-of-type {\n",
       "        vertical-align: middle;\n",
       "    }\n",
       "\n",
       "    .dataframe tbody tr th {\n",
       "        vertical-align: top;\n",
       "    }\n",
       "\n",
       "    .dataframe thead th {\n",
       "        text-align: right;\n",
       "    }\n",
       "</style>\n",
       "<table border=\"1\" class=\"dataframe\">\n",
       "  <thead>\n",
       "    <tr style=\"text-align: right;\">\n",
       "      <th></th>\n",
       "      <th>mac</th>\n",
       "      <th>exit_datetime</th>\n",
       "      <th>entry_datetime</th>\n",
       "    </tr>\n",
       "  </thead>\n",
       "  <tbody>\n",
       "    <tr>\n",
       "      <th>0</th>\n",
       "      <td>39:8e:20:c1:f1:cc</td>\n",
       "      <td>2025-04-09 13:05:49</td>\n",
       "      <td>2025-04-09 17:34:49</td>\n",
       "    </tr>\n",
       "    <tr>\n",
       "      <th>1</th>\n",
       "      <td>dc:0c:58:c8:f1:97</td>\n",
       "      <td>2025-04-10 08:49:56</td>\n",
       "      <td>2025-04-10 11:39:56</td>\n",
       "    </tr>\n",
       "    <tr>\n",
       "      <th>2</th>\n",
       "      <td>12:d9:ad:19:f8:5d</td>\n",
       "      <td>2025-03-21 19:03:04</td>\n",
       "      <td>2025-03-21 21:35:04</td>\n",
       "    </tr>\n",
       "    <tr>\n",
       "      <th>3</th>\n",
       "      <td>28:b9:61:91:ae:ec</td>\n",
       "      <td>2025-03-17 18:19:59</td>\n",
       "      <td>2025-03-17 21:31:59</td>\n",
       "    </tr>\n",
       "    <tr>\n",
       "      <th>4</th>\n",
       "      <td>be:4e:6a:4e:83:ed</td>\n",
       "      <td>2025-04-09 14:52:16</td>\n",
       "      <td>2025-04-09 18:55:16</td>\n",
       "    </tr>\n",
       "  </tbody>\n",
       "</table>\n",
       "</div>"
      ],
      "text/plain": [
       "                 mac        exit_datetime       entry_datetime\n",
       "0  39:8e:20:c1:f1:cc  2025-04-09 13:05:49  2025-04-09 17:34:49\n",
       "1  dc:0c:58:c8:f1:97  2025-04-10 08:49:56  2025-04-10 11:39:56\n",
       "2  12:d9:ad:19:f8:5d  2025-03-21 19:03:04  2025-03-21 21:35:04\n",
       "3  28:b9:61:91:ae:ec  2025-03-17 18:19:59  2025-03-17 21:31:59\n",
       "4  be:4e:6a:4e:83:ed  2025-04-09 14:52:16  2025-04-09 18:55:16"
      ]
     },
     "execution_count": 12,
     "metadata": {},
     "output_type": "execute_result"
    }
   ],
   "source": [
    "df.head()"
   ]
  },
  {
   "cell_type": "code",
   "execution_count": 13,
   "id": "4208a13b",
   "metadata": {},
   "outputs": [],
   "source": [
    "df.to_csv(\"entry_exit.csv\", index=False)"
   ]
  },
  {
   "cell_type": "markdown",
   "id": "c059a589",
   "metadata": {},
   "source": [
    "## Upload to DB"
   ]
  },
  {
   "cell_type": "code",
   "execution_count": 14,
   "id": "399acacb",
   "metadata": {},
   "outputs": [],
   "source": [
    "# Requirements\n",
    "host_name = \"192.168.137.1\"\n",
    "user_name = \"root\"\n",
    "user_password = \"12341234\"\n",
    "database_name = \"trial3\" #overall database name\n",
    "table_name = \"exit_entry_logs\" #table name\n",
    "\n"
   ]
  },
  {
   "cell_type": "code",
   "execution_count": 15,
   "id": "545ce252",
   "metadata": {},
   "outputs": [
    {
     "name": "stdout",
     "output_type": "stream",
     "text": [
      "Successfully inserted 2000 rows into 'exit_entry_logs'!\n"
     ]
    }
   ],
   "source": [
    "import pandas as pd\n",
    "import mysql.connector\n",
    "\n",
    "\n",
    "# Define your database connection details\n",
    "conn = mysql.connector.connect(\n",
    "    host=host_name,\n",
    "        user=user_name,\n",
    "        password=user_password,\n",
    "        database=database_name)\n",
    "cursor = conn.cursor()\n",
    "\n",
    "\n",
    "\n",
    "# Prepare insert query dynamically\n",
    "cols = \", \".join(df.columns)\n",
    "placeholders = \", \".join([\"%s\"] * len(df.columns))\n",
    "insert_query = f\"INSERT INTO {table_name} ({cols}) VALUES ({placeholders})\"\n",
    "\n",
    "# Convert DataFrame rows to list of tuples and insert\n",
    "data = [tuple(x) for x in df.to_numpy()]\n",
    "\n",
    "# Execute in bulk for performance\n",
    "cursor.executemany(insert_query, data)\n",
    "\n",
    "# Commit changes\n",
    "conn.commit()\n",
    "cursor.close()\n",
    "conn.close()\n",
    "\n",
    "print(f\"Successfully inserted {len(data)} rows into '{table_name}'!\")\n"
   ]
  },
  {
   "cell_type": "code",
   "execution_count": null,
   "id": "3338a7d4",
   "metadata": {},
   "outputs": [],
   "source": []
  }
 ],
 "metadata": {
  "kernelspec": {
   "display_name": "iot",
   "language": "python",
   "name": "python3"
  },
  "language_info": {
   "codemirror_mode": {
    "name": "ipython",
    "version": 3
   },
   "file_extension": ".py",
   "mimetype": "text/x-python",
   "name": "python",
   "nbconvert_exporter": "python",
   "pygments_lexer": "ipython3",
   "version": "3.12.9"
  }
 },
 "nbformat": 4,
 "nbformat_minor": 5
}
